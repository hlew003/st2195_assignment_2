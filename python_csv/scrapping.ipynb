{
 "cells": [
  {
   "cell_type": "markdown",
   "id": "eaf1d339",
   "metadata": {},
   "source": [
    "## Introduction\n",
    "\n",
    "In this Jupyter notebook we want to scrap the csv example on cars in the Wikipedia page and save the resulting output in the local folder \n",
    "\n",
    "\n",
    "### Load the library"
   ]
  },
  {
   "cell_type": "code",
   "execution_count": null,
   "id": "1a2a5161-d11b-4fca-8737-84307de13afc",
   "metadata": {},
   "outputs": [],
   "source": [
    "# pip install beautifulsoup4"
   ]
  },
  {
   "cell_type": "code",
   "execution_count": 33,
   "id": "4c27e948",
   "metadata": {},
   "outputs": [],
   "source": [
    "from bs4 import BeautifulSoup\n",
    "import requests"
   ]
  },
  {
   "cell_type": "markdown",
   "id": "bf1f4a0c",
   "metadata": {},
   "source": [
    "### Get the HTML page\n",
    "\n",
    "Load in the html"
   ]
  },
  {
   "cell_type": "code",
   "execution_count": 34,
   "id": "5e61a0ad-0119-4bab-b7e8-35f901826cd2",
   "metadata": {},
   "outputs": [],
   "source": [
    "sim_html = requests.get(\"https://www.sim.edu.sg/\")\n",
    "\n",
    "#sim_html.text"
   ]
  },
  {
   "cell_type": "code",
   "execution_count": 35,
   "id": "fe0207d1",
   "metadata": {},
   "outputs": [],
   "source": [
    "soup = BeautifulSoup(sim_html.text, 'html.parser')\n",
    "#soup"
   ]
  },
  {
   "cell_type": "markdown",
   "id": "ebd33adb-0ab1-48a1-a2b9-d1e3df899fcf",
   "metadata": {},
   "source": [
    "##### Show some information about the HTML page"
   ]
  },
  {
   "cell_type": "code",
   "execution_count": 36,
   "id": "6083d062-5593-4734-93b5-8c87c5f0e6dc",
   "metadata": {},
   "outputs": [
    {
     "data": {
      "text/plain": [
       "['Singapore Institute of Management ',\n",
       " ' Degree & Diploma Programmes ',\n",
       " ' Professional Short Courses']"
      ]
     },
     "execution_count": 36,
     "metadata": {},
     "output_type": "execute_result"
    }
   ],
   "source": [
    "soup.title.text.split('|')"
   ]
  },
  {
   "cell_type": "markdown",
   "id": "3e118b4f",
   "metadata": {},
   "source": [
    "##### Locate the Footer"
   ]
  },
  {
   "cell_type": "code",
   "execution_count": 37,
   "id": "fa714ace",
   "metadata": {
    "scrolled": true
   },
   "outputs": [
    {
     "data": {
      "text/plain": [
       "<footer>\n",
       "<div class=\"container-xxl position-relative\">\n",
       "<div class=\"footer-content\">\n",
       "<div>\n",
       "<h3 class=\"main-title\">\n",
       "</h3>\n",
       "</div>\n",
       "<div class=\"content\">\n",
       "<div class=\"row\">\n",
       "<div class=\"col-lg-6 col-sm-12\">\n",
       "<div class=\"category\">\n",
       "<p class=\"title\"><strong>SIM Global Education</strong></p>\n",
       "                For Degree &amp; Diplomas programme enquiries:\n",
       "<div class=\"contact-item\"><span>Email: </span> <span> <a href=\"mailto:study@sim.edu.sg\">study@sim.edu.sg</a> </span></div>\n",
       "<div class=\"contact-item\"><span>Phone: </span> <span> <a href=\"tel:6248 9746\">6248 9746</a><br/>\n",
       "<span class=\"font-small\">(Mon to Fri, 9.00am - 5.00pm)<br/>\n",
       "(Closed on Sat, Sun, public holidays and SIM shutdown days - Christmas Eve, New Year’s Day Eve and Chinese New Year Eve, 3rd day of Chinese New Year)</span></span></div>\n",
       "<div class=\"contact-item\"><br/>\n",
       "<span>Address: </span>     <span>461 Clementi Road, Singapore 599491<br/>\n",
       "<span class=\"font-small\">(Daily except public holidays, 6am to 11.59pm)</span><br/>\n",
       "<a href=\"https://g.page/simglobaleducation?share\" target=\"_blank\">Getting here</a></span></div>\n",
       "</div>\n",
       "<div class=\"connect-with-us\">\n",
       "<p>Connect with us</p>\n",
       "<div class=\"social-contact\">\n",
       "<div class=\"top-row\">\n",
       "<div class=\"sc-item\">\n",
       "<div class=\"icon-container\">\n",
       "<a href=\"https://www.facebook.com/globalsim/\">\n",
       "<img alt=\"facebook\" class=\"icons\" height=\"20\" src=\"https://onesim-production.s3.ap-southeast-1.amazonaws.com/onesim/media/sim-footer/default/sim-social-media-icons_facebook-icon.svg?ext=.svg\" width=\"20\">\n",
       "<img alt=\"facebook\" class=\"icons shown-hover\" height=\"20\" src=\"https://onesim-production.s3.ap-southeast-1.amazonaws.com/onesim/media/sim-footer/hover/sim-social-media-icons_facebook-icon-hover.svg?ext=.svg\" width=\"20\">\n",
       "</img></img></a>\n",
       "</div>\n",
       "</div>\n",
       "<div class=\"sc-item\">\n",
       "<div class=\"icon-container\">\n",
       "<a href=\"https://www.instagram.com/simglobaledge/\">\n",
       "<img alt=\"instagram\" class=\"icons\" height=\"20\" src=\"https://onesim-production.s3.ap-southeast-1.amazonaws.com/onesim/media/sim-footer/default/sim-social-media-icons_instagram-icon.svg?ext=.svg\" width=\"20\">\n",
       "<img alt=\"instagram\" class=\"icons shown-hover\" height=\"20\" src=\"https://onesim-production.s3.ap-southeast-1.amazonaws.com/onesim/media/sim-footer/hover/sim-social-media-icons_instagram-icon-hover.svg?ext=.svg\" width=\"20\">\n",
       "</img></img></a>\n",
       "</div>\n",
       "</div>\n",
       "<div class=\"sc-item\">\n",
       "<div class=\"icon-container\">\n",
       "<a href=\"https://www.youtube.com/user/SIMGlobalEducati0n\">\n",
       "<img alt=\"youtube\" class=\"icons\" height=\"20\" src=\"https://onesim-production.s3.ap-southeast-1.amazonaws.com/onesim/media/sim-footer/default/sim-social-media-icons_youtube-icon.svg?ext=.svg\" width=\"20\">\n",
       "<img alt=\"youtube\" class=\"icons shown-hover\" height=\"20\" src=\"https://onesim-production.s3.ap-southeast-1.amazonaws.com/onesim/media/sim-footer/hover/sim-social-media-icons_youtube-icon-hover.svg?ext=.svg\" width=\"20\">\n",
       "</img></img></a>\n",
       "</div>\n",
       "</div>\n",
       "<div class=\"sc-item\">\n",
       "<div class=\"icon-container\">\n",
       "<a href=\"https://www.linkedin.com/company/sim/\">\n",
       "<img alt=\"linkedin\" class=\"icons\" height=\"20\" src=\"https://onesim-production.s3.ap-southeast-1.amazonaws.com/onesim/media/sim-footer/default/sim-social-media-icons_linkedin-icon.svg?ext=.svg\" width=\"20\">\n",
       "<img alt=\"linkedin\" class=\"icons shown-hover\" height=\"20\" src=\"https://onesim-production.s3.ap-southeast-1.amazonaws.com/onesim/media/sim-footer/hover/sim-social-media-icons_linkedin-icon-hover.svg?ext=.svg\" width=\"20\">\n",
       "</img></img></a>\n",
       "</div>\n",
       "</div>\n",
       "<div class=\"sc-item\">\n",
       "<div class=\"icon-container\">\n",
       "<a href=\"https://www.tiktok.com/@simglobaleducation/\">\n",
       "<img alt=\"tiktok\" class=\"icons\" height=\"20\" src=\"https://onesim-production.s3.ap-southeast-1.amazonaws.com/onesim/media/sim-footer/default/sim-social-media-icons_tiktok-icon.svg?ext=.svg\" width=\"20\">\n",
       "<img alt=\"tiktok\" class=\"icons shown-hover\" height=\"20\" src=\"https://onesim-production.s3.ap-southeast-1.amazonaws.com/onesim/media/sim-footer/hover/sim-social-media-icons_tiktok-icon-hover.svg?ext=.svg\" width=\"20\">\n",
       "</img></img></a>\n",
       "</div>\n",
       "</div>\n",
       "</div>\n",
       "</div>\n",
       "</div>\n",
       "</div>\n",
       "<div class=\"col-lg-6 col-sm-12\">\n",
       "<div class=\"category\">\n",
       "<p class=\"title\">SIM Academy</p>\n",
       "                For Enterprise Learning &amp; Professional Short Courses enquiries:\n",
       "<div class=\"contact-item\"><span>Email: </span> <span> <a href=\"mailto:simacademy@sim.edu.sg\">simacademy@sim.edu.sg</a> </span></div>\n",
       "<!--\n",
       "<div class=\"contact-item\"><span>Phone:&nbsp;</span> <span> <a href=\"tel:62466746\">6246 6746</a><br /><span class=\"font-small\">(Mon to Fri, 8.30am - 5.30pm)<br />\n",
       "(Closed on Sun, public holidays and SIM shutdown days)</span> -->\n",
       "<div class=\"contact-item\"><br/>\n",
       "<span>Address: </span>     <span>41 Namly Avenue, Singapore 267616<br/>\n",
       "<span class=\"font-small\">Mon- Fri (8.30am – 5.30pm)<br/>\n",
       "(Closed on Sat, Sun, public holidays and SIM shutdown days) <!--(Mon - Sat, 6am - 11pm)<br />\n",
       "(Closed on Sun, public holidays and SIM shutdown days)--></span><br/>\n",
       "<!-- https://g.page/SIMPDEL?share --><a href=\"https://goo.gl/maps/R9wwuacutyL8xJgHA\" rel=\"noopener nofollow\" target=\"_blank\">Getting here</a></span></div>\n",
       "</div>\n",
       "<div class=\"connect-with-us\">\n",
       "<p>Connect with us</p>\n",
       "<div class=\"social-contact\">\n",
       "<div class=\"top-row\">\n",
       "<div class=\"sc-item\">\n",
       "<div class=\"icon-container\">\n",
       "<a href=\"https://www.facebook.com/sgsimacademy\">\n",
       "<img alt=\"facebook\" class=\"icons\" height=\"20\" src=\"https://onesim-production.s3.ap-southeast-1.amazonaws.com/onesim/media/sim-footer/default/sim-social-media-icons_facebook-icon.svg?ext=.svg\" width=\"20\">\n",
       "<img alt=\"facebook\" class=\"icons shown-hover\" height=\"20\" src=\"https://onesim-production.s3.ap-southeast-1.amazonaws.com/onesim/media/sim-footer/hover/sim-social-media-icons_facebook-icon-hover.svg?ext=.svg\" width=\"20\">\n",
       "</img></img></a>\n",
       "</div>\n",
       "</div>\n",
       "<div class=\"sc-item\">\n",
       "<div class=\"icon-container\">\n",
       "<a href=\"https://www.instagram.com/simacademy_sg/\">\n",
       "<img alt=\"instagram\" class=\"icons\" height=\"20\" src=\"https://onesim-production.s3.ap-southeast-1.amazonaws.com/onesim/media/sim-footer/default/sim-social-media-icons_instagram-icon.svg?ext=.svg\" width=\"20\">\n",
       "<img alt=\"instagram\" class=\"icons shown-hover\" height=\"20\" src=\"https://onesim-production.s3.ap-southeast-1.amazonaws.com/onesim/media/sim-footer/hover/sim-social-media-icons_instagram-icon-hover.svg?ext=.svg\" width=\"20\">\n",
       "</img></img></a>\n",
       "</div>\n",
       "</div>\n",
       "<div class=\"sc-item\">\n",
       "<div class=\"icon-container\">\n",
       "<a href=\"https://www.linkedin.com/school/15108918/\">\n",
       "<img alt=\"linkedin\" class=\"icons\" height=\"20\" src=\"https://onesim-production.s3.ap-southeast-1.amazonaws.com/onesim/media/sim-footer/default/sim-social-media-icons_linkedin-icon.svg?ext=.svg\" width=\"20\">\n",
       "<img alt=\"linkedin\" class=\"icons shown-hover\" height=\"20\" src=\"https://onesim-production.s3.ap-southeast-1.amazonaws.com/onesim/media/sim-footer/hover/sim-social-media-icons_linkedin-icon-hover.svg?ext=.svg\" width=\"20\">\n",
       "</img></img></a>\n",
       "</div>\n",
       "</div>\n",
       "<div class=\"sc-item\">\n",
       "<div class=\"icon-container\">\n",
       "<a href=\"https://www.youtube.com/user/simprodevelopment\">\n",
       "<img alt=\"youtube\" class=\"icons\" height=\"20\" src=\"https://onesim-production.s3.ap-southeast-1.amazonaws.com/onesim/media/sim-footer/default/sim-social-media-icons_youtube-icon.svg?ext=.svg\" width=\"20\">\n",
       "<img alt=\"youtube\" class=\"icons shown-hover\" height=\"20\" src=\"https://onesim-production.s3.ap-southeast-1.amazonaws.com/onesim/media/sim-footer/hover/sim-social-media-icons_youtube-icon-hover.svg?ext=.svg\" width=\"20\">\n",
       "</img></img></a>\n",
       "</div>\n",
       "</div>\n",
       "</div>\n",
       "</div>\n",
       "</div>\n",
       "</div>\n",
       "</div>\n",
       "<hr/>\n",
       "<div class=\"row degrees\">\n",
       "</div>\n",
       "</div>\n",
       "<div class=\"bottom-links-section font-small\">\n",
       "<div class=\"bottom-logo-wrap\">\n",
       "<div>\n",
       "<div class=\"company-cert font-extra-small\">\n",
       "</div>\n",
       "</div>\n",
       "<div class=\"company-registration\">\n",
       "</div>\n",
       "</div>\n",
       "<div class=\"bottom-links-wrap\">\n",
       "<div class=\"bottom-links\">\n",
       "<ul>\n",
       "<li class=\"copyright\">© Copyright <span id=\"footer-year\"></span>. Singapore Institute of Management Group Limited</li>\n",
       "<li><span class=\"d-none d-lg-inline-block\">|</span><a href=\"https://www.sim.edu.sg/terms-of-use\">Terms of Use</a></li>\n",
       "<li><span class=\"\">|</span><a href=\"https://www.sim.edu.sg/data-privacy\">Data Privacy</a></li>\n",
       "<li><span class=\"\">|</span><a href=\"https://www.sim.edu.sg/sitemap\">Sitemap</a></li>\n",
       "</ul>\n",
       "</div>\n",
       "</div>\n",
       "</div>\n",
       "</div>\n",
       "</div>\n",
       "</footer>"
      ]
     },
     "execution_count": 37,
     "metadata": {},
     "output_type": "execute_result"
    }
   ],
   "source": [
    "footer = soup.find('footer')\n",
    "footer"
   ]
  },
  {
   "cell_type": "markdown",
   "id": "462a29d5",
   "metadata": {},
   "source": [
    "##### Extract all the 'Span' tags"
   ]
  },
  {
   "cell_type": "code",
   "execution_count": 38,
   "id": "a018893e",
   "metadata": {},
   "outputs": [],
   "source": [
    "spans = footer.find_all('span')\n",
    "#spans"
   ]
  },
  {
   "cell_type": "markdown",
   "id": "5771aca6",
   "metadata": {},
   "source": [
    "##### Extract the information among the Spans"
   ]
  },
  {
   "cell_type": "code",
   "execution_count": 39,
   "id": "72a3fa0d",
   "metadata": {},
   "outputs": [
    {
     "data": {
      "text/plain": [
       "{'Email': ['study@sim.edu.sg', 'simacademy@sim.edu.sg'],\n",
       " 'Phone': ['6248 9746', ''],\n",
       " 'Address': ['461 Clementi Road, Singapore 599491',\n",
       "  '41 Namly Avenue, Singapore 267616\\nMon- Fri']}"
      ]
     },
     "execution_count": 39,
     "metadata": {},
     "output_type": "execute_result"
    }
   ],
   "source": [
    "index = 0\n",
    "email_lst = []\n",
    "phone_lst = []\n",
    "address_lst = []\n",
    "\n",
    "\n",
    "\n",
    "for span in spans:\n",
    "    if (\"Email\" in span.text):\n",
    "        email = spans[index+1].text\n",
    "        email = email.strip()\n",
    "        email_lst.append(email)\n",
    "\n",
    "    if (\"Phone\" in span.text):\n",
    "        phone = spans[index+1].text\n",
    "        phone_end = phone.find(\"(\")\n",
    "        phone = phone[:phone_end]\n",
    "        phone = phone.strip()\n",
    "        phone_lst.append(phone)\n",
    "    \n",
    "\n",
    "    if (\"Address\" in span.text):\n",
    "        address = spans[index+1].text\n",
    "        address_end = address.find(\"(\")\n",
    "        address = address[:address_end]\n",
    "        address = address.strip()\n",
    "        address_lst.append(address)\n",
    "\n",
    "    index += 1\n",
    "\n",
    "#print(email_lst)\n",
    "#print(phone_lst)\n",
    "phone_lst.append(\"\")\n",
    "#print(address_lst)\n",
    "\n",
    "contact_dict = {\"Email\":email_lst, \"Phone\":phone_lst, \"Address\":address_lst}\n",
    "contact_dict"
   ]
  },
  {
   "cell_type": "markdown",
   "id": "d013da5e-3bf3-4e2e-9d58-503abd2a1cfa",
   "metadata": {},
   "source": [
    "##### From Dictionary, create data frame"
   ]
  },
  {
   "cell_type": "code",
   "execution_count": 40,
   "id": "23ce8cbb-341a-46c7-80cc-c9e3753723df",
   "metadata": {},
   "outputs": [
    {
     "data": {
      "text/html": [
       "<div>\n",
       "<style scoped>\n",
       "    .dataframe tbody tr th:only-of-type {\n",
       "        vertical-align: middle;\n",
       "    }\n",
       "\n",
       "    .dataframe tbody tr th {\n",
       "        vertical-align: top;\n",
       "    }\n",
       "\n",
       "    .dataframe thead th {\n",
       "        text-align: right;\n",
       "    }\n",
       "</style>\n",
       "<table border=\"1\" class=\"dataframe\">\n",
       "  <thead>\n",
       "    <tr style=\"text-align: right;\">\n",
       "      <th></th>\n",
       "      <th>Email</th>\n",
       "      <th>Phone</th>\n",
       "      <th>Address</th>\n",
       "    </tr>\n",
       "  </thead>\n",
       "  <tbody>\n",
       "    <tr>\n",
       "      <th>0</th>\n",
       "      <td>study@sim.edu.sg</td>\n",
       "      <td>6248 9746</td>\n",
       "      <td>461 Clementi Road, Singapore 599491</td>\n",
       "    </tr>\n",
       "    <tr>\n",
       "      <th>1</th>\n",
       "      <td>simacademy@sim.edu.sg</td>\n",
       "      <td></td>\n",
       "      <td>41 Namly Avenue, Singapore 267616\\nMon- Fri</td>\n",
       "    </tr>\n",
       "  </tbody>\n",
       "</table>\n",
       "</div>"
      ],
      "text/plain": [
       "                   Email      Phone  \\\n",
       "0       study@sim.edu.sg  6248 9746   \n",
       "1  simacademy@sim.edu.sg              \n",
       "\n",
       "                                       Address  \n",
       "0          461 Clementi Road, Singapore 599491  \n",
       "1  41 Namly Avenue, Singapore 267616\\nMon- Fri  "
      ]
     },
     "execution_count": 40,
     "metadata": {},
     "output_type": "execute_result"
    }
   ],
   "source": [
    "import pandas as pd\n",
    "\n",
    "contact_df=pd.DataFrame(contact_dict)\n",
    "contact_df"
   ]
  },
  {
   "cell_type": "markdown",
   "id": "b64ad3a5-13d1-4a15-9e4a-a72c50590302",
   "metadata": {},
   "source": [
    "#### Export data frame to csv file"
   ]
  },
  {
   "cell_type": "code",
   "execution_count": 41,
   "id": "ec19a6cd-702d-4a8d-b83c-69d2d92214da",
   "metadata": {},
   "outputs": [],
   "source": [
    "contact_df.to_csv(\"contact.csv\", index=False)"
   ]
  },
  {
   "cell_type": "code",
   "execution_count": null,
   "id": "905269b0-652a-4395-ad56-dbf0f9235bcb",
   "metadata": {},
   "outputs": [],
   "source": []
  }
 ],
 "metadata": {
  "kernelspec": {
   "display_name": "Python [conda env:base] *",
   "language": "python",
   "name": "conda-base-py"
  },
  "language_info": {
   "codemirror_mode": {
    "name": "ipython",
    "version": 3
   },
   "file_extension": ".py",
   "mimetype": "text/x-python",
   "name": "python",
   "nbconvert_exporter": "python",
   "pygments_lexer": "ipython3",
   "version": "3.12.7"
  }
 },
 "nbformat": 4,
 "nbformat_minor": 5
}
