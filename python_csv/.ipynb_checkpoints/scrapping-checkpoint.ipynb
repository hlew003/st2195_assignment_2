{
 "cells": [
  {
   "cell_type": "markdown",
   "id": "eaf1d339",
   "metadata": {},
   "source": [
    "## Introduction\n",
    "\n",
    "In this Jupyter notebook we want to scrap the csv example on cars in the Wikipedia page and save the resulting output in the local folder \n",
    "\n",
    "\n",
    "### Load the library"
   ]
  },
  {
   "cell_type": "code",
   "execution_count": 8,
   "id": "1a2a5161-d11b-4fca-8737-84307de13afc",
   "metadata": {},
   "outputs": [],
   "source": [
    "#pip install beautifulsoup4"
   ]
  },
  {
   "cell_type": "code",
   "execution_count": 3,
   "id": "4c27e948",
   "metadata": {},
   "outputs": [],
   "source": [
    "from bs4 import BeautifulSoup\n",
    "import requests"
   ]
  },
  {
   "cell_type": "markdown",
   "id": "bf1f4a0c",
   "metadata": {},
   "source": [
    "### Get the HTML page\n",
    "\n",
    "Load in the html"
   ]
  },
  {
   "cell_type": "code",
   "execution_count": 7,
   "id": "5e61a0ad-0119-4bab-b7e8-35f901826cd2",
   "metadata": {},
   "outputs": [],
   "source": [
    "sim_html = requests.get(\"https://www.sim.edu.sg/\")\n",
    "#sim_html.text"
   ]
  },
  {
   "cell_type": "code",
   "execution_count": 10,
   "id": "fe0207d1",
   "metadata": {},
   "outputs": [],
   "source": [
    "soup = BeautifulSoup(sim_html.text, 'html.parser')\n",
    "#soup"
   ]
  },
  {
   "cell_type": "markdown",
   "id": "ebd33adb-0ab1-48a1-a2b9-d1e3df899fcf",
   "metadata": {},
   "source": [
    "##### Show some information about the HTML page"
   ]
  },
  {
   "cell_type": "code",
   "execution_count": 11,
   "id": "6083d062-5593-4734-93b5-8c87c5f0e6dc",
   "metadata": {},
   "outputs": [
    {
     "data": {
      "text/plain": [
       "<title>Singapore Institute of Management | Degree &amp; Diploma Programmes | Professional Short Courses</title>"
      ]
     },
     "execution_count": 11,
     "metadata": {},
     "output_type": "execute_result"
    }
   ],
   "source": [
    "soup.title"
   ]
  },
  {
   "cell_type": "markdown",
   "id": "3e118b4f",
   "metadata": {},
   "source": [
    "##### Locate the Footer"
   ]
  },
  {
   "cell_type": "code",
   "execution_count": 13,
   "id": "fa714ace",
   "metadata": {
    "scrolled": true
   },
   "outputs": [],
   "source": [
    "footer = soup.find('footer')\n",
    "#footer"
   ]
  },
  {
   "cell_type": "markdown",
   "id": "462a29d5",
   "metadata": {},
   "source": [
    "##### Extract all the 'Span' tags"
   ]
  },
  {
   "cell_type": "code",
   "execution_count": 18,
   "id": "a018893e",
   "metadata": {},
   "outputs": [
    {
     "data": {
      "text/plain": [
       "[<span>Email: </span>,\n",
       " <span> <a href=\"mailto:study@sim.edu.sg\">study@sim.edu.sg</a> </span>,\n",
       " <span>Phone: </span>,\n",
       " <span> <a href=\"tel:6248 9746\">6248 9746</a><br/>\n",
       " <span class=\"font-small\">(Mon to Fri, 9.00am - 5.00pm)<br/>\n",
       " (Closed on Sat, Sun, public holidays and SIM shutdown days - Christmas Eve, New Year’s Day Eve and Chinese New Year Eve, 3rd day of Chinese New Year)</span></span>,\n",
       " <span class=\"font-small\">(Mon to Fri, 9.00am - 5.00pm)<br/>\n",
       " (Closed on Sat, Sun, public holidays and SIM shutdown days - Christmas Eve, New Year’s Day Eve and Chinese New Year Eve, 3rd day of Chinese New Year)</span>,\n",
       " <span>Address: </span>,\n",
       " <span>461 Clementi Road, Singapore 599491<br/>\n",
       " <span class=\"font-small\">(Daily except public holidays, 6am to 11.59pm)</span><br/>\n",
       " <a href=\"https://g.page/simglobaleducation?share\" target=\"_blank\">Getting here</a></span>,\n",
       " <span class=\"font-small\">(Daily except public holidays, 6am to 11.59pm)</span>,\n",
       " <span>Email: </span>,\n",
       " <span> <a href=\"mailto:simacademy@sim.edu.sg\">simacademy@sim.edu.sg</a> </span>,\n",
       " <span>Phone: </span>,\n",
       " <span> <a href=\"tel:62466746\">6246 6746</a><br/>\n",
       " <span class=\"font-small\">(Mon to Fri, 8.30am - 5.30pm)<br/>\n",
       " (Closed on Sun, public holidays and SIM shutdown days)</span></span>,\n",
       " <span class=\"font-small\">(Mon to Fri, 8.30am - 5.30pm)<br/>\n",
       " (Closed on Sun, public holidays and SIM shutdown days)</span>,\n",
       " <span>Address: </span>,\n",
       " <span>41 Namly Avenue, Singapore 267616<br/>\n",
       " <span class=\"font-small\">(Mon - Sat, 6am - 11pm)<br/>\n",
       " (Closed on Sun, public holidays and SIM shutdown days)</span><br/>\n",
       " <!-- https://g.page/SIMPDEL?share --><a href=\"https://goo.gl/maps/R9wwuacutyL8xJgHA\" rel=\"noopener nofollow\" target=\"_blank\">Getting here</a></span>,\n",
       " <span class=\"font-small\">(Mon - Sat, 6am - 11pm)<br/>\n",
       " (Closed on Sun, public holidays and SIM shutdown days)</span>,\n",
       " <span id=\"footer-year\"></span>,\n",
       " <span class=\"d-none d-lg-inline-block\">|</span>,\n",
       " <span class=\"\">|</span>,\n",
       " <span class=\"\">|</span>]"
      ]
     },
     "execution_count": 18,
     "metadata": {},
     "output_type": "execute_result"
    }
   ],
   "source": [
    "spans = footer.find_all('span')\n",
    "spans"
   ]
  },
  {
   "cell_type": "markdown",
   "id": "5771aca6",
   "metadata": {},
   "source": [
    "##### Extract the information among the Spans"
   ]
  },
  {
   "cell_type": "code",
   "execution_count": 26,
   "id": "72a3fa0d",
   "metadata": {},
   "outputs": [
    {
     "name": "stdout",
     "output_type": "stream",
     "text": [
      "study@sim.edu.sg\n",
      "6248 9746\n",
      "461 Clementi Road, Singapore 599491\n",
      "simacademy@sim.edu.sg\n",
      "6246 6746\n",
      "41 Namly Avenue, Singapore 267616\n"
     ]
    }
   ],
   "source": [
    "index = 0\n",
    "\n",
    "for span in spans:\n",
    "    if (\"Email\" in span.text):\n",
    "        email = spans[index+1].text\n",
    "        email = email.strip()\n",
    "        print(email)\n",
    "\n",
    "    if (\"Phone\" in span.text):\n",
    "        phone = spans[index+1].text\n",
    "        phone_end = phone.find(\"(\")\n",
    "        phone = phone[:phone_end]\n",
    "        phone = phone.strip()\n",
    "        print(phone)\n",
    "\n",
    "    if (\"Address\" in span.text):\n",
    "        address = spans[index+1].text\n",
    "        address_end = address.find(\"(\")\n",
    "        address = address[:address_end]\n",
    "        address = address.strip()\n",
    "        print(address)\n",
    "\n",
    "    index += 1"
   ]
  },
  {
   "cell_type": "code",
   "execution_count": null,
   "id": "23ce8cbb-341a-46c7-80cc-c9e3753723df",
   "metadata": {},
   "outputs": [],
   "source": []
  }
 ],
 "metadata": {
  "kernelspec": {
   "display_name": "Python 3 (ipykernel)",
   "language": "python",
   "name": "python3"
  },
  "language_info": {
   "codemirror_mode": {
    "name": "ipython",
    "version": 3
   },
   "file_extension": ".py",
   "mimetype": "text/x-python",
   "name": "python",
   "nbconvert_exporter": "python",
   "pygments_lexer": "ipython3",
   "version": "3.12.7"
  }
 },
 "nbformat": 4,
 "nbformat_minor": 5
}
